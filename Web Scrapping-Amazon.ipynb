{
 "cells": [
  {
   "cell_type": "code",
   "execution_count": 5,
   "metadata": {},
   "outputs": [],
   "source": [
    "from autoscraper import AutoScraper"
   ]
  },
  {
   "cell_type": "code",
   "execution_count": 22,
   "metadata": {},
   "outputs": [],
   "source": [
    "url=\"https://www.amazon.in/Dell-Vostro-3400-Integrated-D552190WIN9BE/dp/B097SZHHLC/ref=sr_1_10?brr=1&qid=1655217088&rd=1&sr=8-10\"\n",
    "wanted_list=['37,490.00','Dell New Vostro 3401 Laptop Intel i3-1115G4, 8GB DDR4, 256GB SSD, 14\" (35.56Cms) FHD Display, Integrated Graphics, Win 10 + MSO, Black (D552190WIN9BE), 1.59Kg']"
   ]
  },
  {
   "cell_type": "code",
   "execution_count": 30,
   "metadata": {},
   "outputs": [
    {
     "name": "stdout",
     "output_type": "stream",
     "text": [
      "['37,490.00', 'Dell New Vostro 3401 Laptop Intel i3-1115G4, 8GB DDR4, 256GB SSD, 14\" (35.56Cms) FHD Display, Integrated Graphics, Win 10 + MSO, Black (D552190WIN9BE), 1.59Kg', 'Save up to 28% with GST invoiceSign in/Create a free business account']\n"
     ]
    }
   ],
   "source": [
    "scraper=AutoScraper()\n",
    "result=scraper.build(url,wanted_list)\n",
    "print(result)"
   ]
  },
  {
   "cell_type": "code",
   "execution_count": 31,
   "metadata": {},
   "outputs": [
    {
     "data": {
      "text/plain": [
       "{'rule_tacv': ['37,490.00'],\n",
       " 'rule_0tzk': ['37,490.00'],\n",
       " 'rule_ij4w': ['37,490.00'],\n",
       " 'rule_e21s': ['Dell New Vostro 3401 Laptop Intel i3-1115G4, 8GB DDR4, 256GB SSD, 14\" (35.56Cms) FHD Display, Integrated Graphics, Win 10 + MSO, Black (D552190WIN9BE), 1.59Kg'],\n",
       " 'rule_fpgh': ['Dell New Vostro 3401 Laptop Intel i3-1115G4, 8GB DDR4, 256GB SSD, 14\" (35.56Cms) FHD Display, Integrated Graphics, Win 10 + MSO, Black (D552190WIN9BE), 1.59Kg',\n",
       "  'Lowest price ever on JK copier paperSign in/Create a free business account'],\n",
       " 'rule_utv3': ['Dell New Vostro 3401 Laptop Intel i3-1115G4, 8GB DDR4, 256GB SSD, 14\" (35.56Cms) FHD Display, Integrated Graphics, Win 10 + MSO, Black (D552190WIN9BE), 1.59Kg']}"
      ]
     },
     "execution_count": 31,
     "metadata": {},
     "output_type": "execute_result"
    }
   ],
   "source": [
    "scraper.get_result_similar(url, grouped=True) "
   ]
  },
  {
   "cell_type": "code",
   "execution_count": 41,
   "metadata": {},
   "outputs": [],
   "source": [
    "scraper.set_rule_aliases({'rule_utv3':'Title', 'rule_utv3':'Price'})\n",
    "scraper.keep_rules(['rule_utv3', 'rule_utv3'])\n",
    "scraper.save('amazon_search')                          "
   ]
  },
  {
   "cell_type": "code",
   "execution_count": 46,
   "metadata": {},
   "outputs": [
    {
     "name": "stdout",
     "output_type": "stream",
     "text": [
      "{'rule_utv3': []}\n"
     ]
    }
   ],
   "source": [
    "result = scraper.get_result_similar('https://www.amazon.in/DELL-WM118-Wireless-Optical-Mouse/dp/B07JPX9CR7/ref=pd_bxgy_img_sccl_2/258-0208907-5305908?pd_rd_w=p0R3l&content-id=amzn1.sym.d68c4347-8b80-4998-9474-4671a1e32e96&pf_rd_p=d68c4347-8b80-4998-9474-4671a1e32e96&pf_rd_r=MBR1FX9R821BCHHXW8W9&pd_rd_wg=2TDxd&pd_rd_r=301c6c08-f070-4f98-97b6-b7afa9796707&pd_rd_i=B07JPX9CR7&psc=1', grouped=True)\n",
    "print(result)"
   ]
  },
  {
   "cell_type": "code",
   "execution_count": 50,
   "metadata": {},
   "outputs": [
    {
     "data": {
      "text/plain": [
       "{'Price': ['Dell New Vostro 3401 Laptop Intel i3-1115G4, 8GB DDR4, 256GB SSD, 14\" (35.56Cms) FHD Display, Integrated Graphics, Win 10 + MSO, Black (D552190WIN9BE), 1.59Kg']}"
      ]
     },
     "execution_count": 50,
     "metadata": {},
     "output_type": "execute_result"
    }
   ],
   "source": [
    "scraper.get_result_similar(url, group_by_alias=True)"
   ]
  },
  {
   "cell_type": "code",
   "execution_count": 49,
   "metadata": {},
   "outputs": [],
   "source": []
  }
 ],
 "metadata": {
  "kernelspec": {
   "display_name": "Python 3",
   "language": "python",
   "name": "python3"
  },
  "language_info": {
   "codemirror_mode": {
    "name": "ipython",
    "version": 3
   },
   "file_extension": ".py",
   "mimetype": "text/x-python",
   "name": "python",
   "nbconvert_exporter": "python",
   "pygments_lexer": "ipython3",
   "version": "3.8.3"
  }
 },
 "nbformat": 4,
 "nbformat_minor": 4
}
